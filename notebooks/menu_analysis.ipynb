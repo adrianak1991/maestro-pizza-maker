{
 "cells": [
  {
   "cell_type": "code",
   "execution_count": 1,
   "metadata": {},
   "outputs": [],
   "source": [
    "import os\n",
    "import sys\n",
    "\n",
    "sys.path.insert(0, os.path.abspath(\"..\"))\n",
    "\n",
    "from maestro_pizza_maker.pizza_menu import PizzaMenu\n",
    "from maestro_pizza_maker.pizza import Pizza\n",
    "from maestro_pizza_maker.ingredients import PizzaIngredients\n",
    "from maestro_pizza_maker.taste_at_risk import *\n",
    "from maestro_pizza_maker.pizza_sensitivities import *\n",
    "from maestro_pizza_maker.pizza_optimizer import *\n",
    "\n",
    "import numpy as np"
   ]
  },
  {
   "cell_type": "code",
   "execution_count": 2,
   "metadata": {},
   "outputs": [],
   "source": [
    "# consider following menu\n",
    "pizza_menu = PizzaMenu(\n",
    "    pizzas=[\n",
    "        Pizza(\n",
    "            sauce=PizzaIngredients.CREAM_SAUCE,\n",
    "            dough=PizzaIngredients.CLASSIC_DOUGH,\n",
    "            cheese=[PizzaIngredients.MOZZARELA],\n",
    "            fruits=[PizzaIngredients.PINEAPPLE],\n",
    "            meat=[PizzaIngredients.BACON, PizzaIngredients.HAM],\n",
    "            vegetables=[PizzaIngredients.ONIONS],\n",
    "        ),\n",
    "        Pizza(\n",
    "            sauce=PizzaIngredients.TOMATO_SAUCE,\n",
    "            dough=PizzaIngredients.THIN_DOUGH,\n",
    "            cheese=[PizzaIngredients.CHEDDAR],\n",
    "            fruits=[PizzaIngredients.APPLE],\n",
    "            meat=[PizzaIngredients.SAUSAGE],\n",
    "            vegetables=[PizzaIngredients.MUSHROOMS, PizzaIngredients.PEPPER],\n",
    "        ),\n",
    "        Pizza(\n",
    "            sauce=PizzaIngredients.CREAM_SAUCE,\n",
    "            dough=PizzaIngredients.WHOLEMEAL_DOUGH,\n",
    "            cheese=[PizzaIngredients.MOZZARELA, PizzaIngredients.CHEDDAR],\n",
    "            fruits=[PizzaIngredients.PINEAPPLE, PizzaIngredients.APPLE],\n",
    "            meat=[\n",
    "                PizzaIngredients.BACON,\n",
    "                PizzaIngredients.HAM,\n",
    "                PizzaIngredients.SAUSAGE,\n",
    "            ],\n",
    "            vegetables=[\n",
    "                PizzaIngredients.MUSHROOMS,\n",
    "                PizzaIngredients.ONIONS,\n",
    "                PizzaIngredients.PEPPER,\n",
    "            ],\n",
    "        ),\n",
    "        Pizza(\n",
    "            sauce=PizzaIngredients.TOMATO_SAUCE,\n",
    "            dough=PizzaIngredients.CLASSIC_DOUGH,\n",
    "            cheese=[PizzaIngredients.MOZZARELA],\n",
    "            fruits=[PizzaIngredients.PINEAPPLE],\n",
    "            meat=[PizzaIngredients.BACON, PizzaIngredients.HAM],\n",
    "            vegetables=[PizzaIngredients.ONIONS],\n",
    "        ),\n",
    "        Pizza(\n",
    "            sauce=PizzaIngredients.CREAM_SAUCE,\n",
    "            dough=PizzaIngredients.THIN_DOUGH,\n",
    "            cheese=[PizzaIngredients.CHEDDAR],\n",
    "            fruits=[PizzaIngredients.APPLE],\n",
    "            meat=[PizzaIngredients.SAUSAGE],\n",
    "            vegetables=[PizzaIngredients.MUSHROOMS, PizzaIngredients.PEPPER],\n",
    "        ),\n",
    "        Pizza(\n",
    "            sauce=PizzaIngredients.TOMATO_SAUCE,\n",
    "            dough=PizzaIngredients.WHOLEMEAL_DOUGH,\n",
    "            cheese=[PizzaIngredients.MOZZARELA, PizzaIngredients.CHEDDAR],\n",
    "            fruits=[PizzaIngredients.PINEAPPLE, PizzaIngredients.APPLE],\n",
    "            meat=[\n",
    "                PizzaIngredients.BACON,\n",
    "                PizzaIngredients.HAM,\n",
    "                PizzaIngredients.SAUSAGE,\n",
    "            ],\n",
    "            vegetables=[\n",
    "                PizzaIngredients.MUSHROOMS,\n",
    "                PizzaIngredients.ONIONS,\n",
    "                PizzaIngredients.PEPPER,\n",
    "            ],\n",
    "        ),\n",
    "        Pizza(\n",
    "            sauce=PizzaIngredients.CREAM_SAUCE,\n",
    "            dough=PizzaIngredients.CLASSIC_DOUGH,\n",
    "            cheese=[PizzaIngredients.MOZZARELA],\n",
    "            fruits=[PizzaIngredients.PINEAPPLE],\n",
    "            meat=[PizzaIngredients.BACON, PizzaIngredients.HAM],\n",
    "            vegetables=[PizzaIngredients.ONIONS],\n",
    "        ),\n",
    "        Pizza(\n",
    "            sauce=PizzaIngredients.TOMATO_SAUCE,\n",
    "            dough=PizzaIngredients.THIN_DOUGH,\n",
    "            cheese=[PizzaIngredients.CHEDDAR],\n",
    "            fruits=[PizzaIngredients.APPLE],\n",
    "            meat=[PizzaIngredients.SAUSAGE],\n",
    "            vegetables=[PizzaIngredients.MUSHROOMS, PizzaIngredients.PEPPER],\n",
    "        ),\n",
    "        Pizza(\n",
    "            sauce=PizzaIngredients.CREAM_SAUCE,\n",
    "            dough=PizzaIngredients.WHOLEMEAL_DOUGH,\n",
    "            cheese=[PizzaIngredients.MOZZARELA, PizzaIngredients.CHEDDAR],\n",
    "            fruits=[PizzaIngredients.PINEAPPLE, PizzaIngredients.APPLE],\n",
    "            meat=[\n",
    "                PizzaIngredients.BACON,\n",
    "                PizzaIngredients.HAM,\n",
    "                PizzaIngredients.SAUSAGE,\n",
    "            ],\n",
    "            vegetables=[\n",
    "                PizzaIngredients.MUSHROOMS,\n",
    "                PizzaIngredients.ONIONS,\n",
    "                PizzaIngredients.PEPPER,\n",
    "            ],\n",
    "        ),\n",
    "        Pizza(\n",
    "            sauce=PizzaIngredients.TOMATO_SAUCE,\n",
    "            dough=PizzaIngredients.CLASSIC_DOUGH,\n",
    "            cheese=[PizzaIngredients.MOZZARELA],\n",
    "            fruits=[PizzaIngredients.PINEAPPLE],\n",
    "            meat=[PizzaIngredients.BACON, PizzaIngredients.HAM],\n",
    "            vegetables=[PizzaIngredients.ONIONS],\n",
    "        ),\n",
    "    ]\n",
    ")\n"
   ]
  },
  {
   "cell_type": "code",
   "execution_count": 3,
   "metadata": {},
   "outputs": [
    {
     "data": {
      "text/html": [
       "<div>\n",
       "<style scoped>\n",
       "    .dataframe tbody tr th:only-of-type {\n",
       "        vertical-align: middle;\n",
       "    }\n",
       "\n",
       "    .dataframe tbody tr th {\n",
       "        vertical-align: top;\n",
       "    }\n",
       "\n",
       "    .dataframe thead th {\n",
       "        text-align: right;\n",
       "    }\n",
       "</style>\n",
       "<table border=\"1\" class=\"dataframe\">\n",
       "  <thead>\n",
       "    <tr style=\"text-align: right;\">\n",
       "      <th></th>\n",
       "      <th>name</th>\n",
       "      <th>price</th>\n",
       "      <th>protein</th>\n",
       "      <th>average_fat</th>\n",
       "      <th>carbohydrates</th>\n",
       "      <th>calories</th>\n",
       "      <th>ingredients</th>\n",
       "    </tr>\n",
       "  </thead>\n",
       "  <tbody>\n",
       "    <tr>\n",
       "      <th>2</th>\n",
       "      <td>Pizza2182237623824</td>\n",
       "      <td>12.6</td>\n",
       "      <td>95.6</td>\n",
       "      <td>358.342102</td>\n",
       "      <td>39.0</td>\n",
       "      <td>2780.0</td>\n",
       "      <td>[PizzaIngredients.WHOLEMEAL_DOUGH, PizzaIngred...</td>\n",
       "    </tr>\n",
       "    <tr>\n",
       "      <th>8</th>\n",
       "      <td>Pizza2182237628432</td>\n",
       "      <td>12.6</td>\n",
       "      <td>95.6</td>\n",
       "      <td>358.342102</td>\n",
       "      <td>39.0</td>\n",
       "      <td>2780.0</td>\n",
       "      <td>[PizzaIngredients.WHOLEMEAL_DOUGH, PizzaIngred...</td>\n",
       "    </tr>\n",
       "    <tr>\n",
       "      <th>5</th>\n",
       "      <td>Pizza2182237627216</td>\n",
       "      <td>12.5</td>\n",
       "      <td>95.5</td>\n",
       "      <td>349.833342</td>\n",
       "      <td>38.0</td>\n",
       "      <td>2770.0</td>\n",
       "      <td>[PizzaIngredients.WHOLEMEAL_DOUGH, PizzaIngred...</td>\n",
       "    </tr>\n",
       "    <tr>\n",
       "      <th>0</th>\n",
       "      <td>Pizza2182163778768</td>\n",
       "      <td>7.6</td>\n",
       "      <td>60.6</td>\n",
       "      <td>202.252041</td>\n",
       "      <td>24.0</td>\n",
       "      <td>1830.0</td>\n",
       "      <td>[PizzaIngredients.CLASSIC_DOUGH, PizzaIngredie...</td>\n",
       "    </tr>\n",
       "    <tr>\n",
       "      <th>6</th>\n",
       "      <td>Pizza2182237627472</td>\n",
       "      <td>7.6</td>\n",
       "      <td>60.6</td>\n",
       "      <td>202.252041</td>\n",
       "      <td>24.0</td>\n",
       "      <td>1830.0</td>\n",
       "      <td>[PizzaIngredients.CLASSIC_DOUGH, PizzaIngredie...</td>\n",
       "    </tr>\n",
       "    <tr>\n",
       "      <th>3</th>\n",
       "      <td>Pizza2182237626320</td>\n",
       "      <td>7.5</td>\n",
       "      <td>60.5</td>\n",
       "      <td>193.743280</td>\n",
       "      <td>23.0</td>\n",
       "      <td>1820.0</td>\n",
       "      <td>[PizzaIngredients.CLASSIC_DOUGH, PizzaIngredie...</td>\n",
       "    </tr>\n",
       "    <tr>\n",
       "      <th>9</th>\n",
       "      <td>Pizza2182237628816</td>\n",
       "      <td>7.5</td>\n",
       "      <td>60.5</td>\n",
       "      <td>193.743280</td>\n",
       "      <td>23.0</td>\n",
       "      <td>1820.0</td>\n",
       "      <td>[PizzaIngredients.CLASSIC_DOUGH, PizzaIngredie...</td>\n",
       "    </tr>\n",
       "    <tr>\n",
       "      <th>4</th>\n",
       "      <td>Pizza2182237626768</td>\n",
       "      <td>6.6</td>\n",
       "      <td>45.6</td>\n",
       "      <td>210.803328</td>\n",
       "      <td>29.0</td>\n",
       "      <td>1080.0</td>\n",
       "      <td>[PizzaIngredients.THIN_DOUGH, PizzaIngredients...</td>\n",
       "    </tr>\n",
       "    <tr>\n",
       "      <th>1</th>\n",
       "      <td>Pizza2182237622736</td>\n",
       "      <td>6.5</td>\n",
       "      <td>45.5</td>\n",
       "      <td>202.294568</td>\n",
       "      <td>28.0</td>\n",
       "      <td>1070.0</td>\n",
       "      <td>[PizzaIngredients.THIN_DOUGH, PizzaIngredients...</td>\n",
       "    </tr>\n",
       "    <tr>\n",
       "      <th>7</th>\n",
       "      <td>Pizza2182237627984</td>\n",
       "      <td>6.5</td>\n",
       "      <td>45.5</td>\n",
       "      <td>202.294568</td>\n",
       "      <td>28.0</td>\n",
       "      <td>1070.0</td>\n",
       "      <td>[PizzaIngredients.THIN_DOUGH, PizzaIngredients...</td>\n",
       "    </tr>\n",
       "  </tbody>\n",
       "</table>\n",
       "</div>"
      ],
      "text/plain": [
       "                 name  price  protein  average_fat  carbohydrates  calories  \\\n",
       "2  Pizza2182237623824   12.6     95.6   358.342102           39.0    2780.0   \n",
       "8  Pizza2182237628432   12.6     95.6   358.342102           39.0    2780.0   \n",
       "5  Pizza2182237627216   12.5     95.5   349.833342           38.0    2770.0   \n",
       "0  Pizza2182163778768    7.6     60.6   202.252041           24.0    1830.0   \n",
       "6  Pizza2182237627472    7.6     60.6   202.252041           24.0    1830.0   \n",
       "3  Pizza2182237626320    7.5     60.5   193.743280           23.0    1820.0   \n",
       "9  Pizza2182237628816    7.5     60.5   193.743280           23.0    1820.0   \n",
       "4  Pizza2182237626768    6.6     45.6   210.803328           29.0    1080.0   \n",
       "1  Pizza2182237622736    6.5     45.5   202.294568           28.0    1070.0   \n",
       "7  Pizza2182237627984    6.5     45.5   202.294568           28.0    1070.0   \n",
       "\n",
       "                                         ingredients  \n",
       "2  [PizzaIngredients.WHOLEMEAL_DOUGH, PizzaIngred...  \n",
       "8  [PizzaIngredients.WHOLEMEAL_DOUGH, PizzaIngred...  \n",
       "5  [PizzaIngredients.WHOLEMEAL_DOUGH, PizzaIngred...  \n",
       "0  [PizzaIngredients.CLASSIC_DOUGH, PizzaIngredie...  \n",
       "6  [PizzaIngredients.CLASSIC_DOUGH, PizzaIngredie...  \n",
       "3  [PizzaIngredients.CLASSIC_DOUGH, PizzaIngredie...  \n",
       "9  [PizzaIngredients.CLASSIC_DOUGH, PizzaIngredie...  \n",
       "4  [PizzaIngredients.THIN_DOUGH, PizzaIngredients...  \n",
       "1  [PizzaIngredients.THIN_DOUGH, PizzaIngredients...  \n",
       "7  [PizzaIngredients.THIN_DOUGH, PizzaIngredients...  "
      ]
     },
     "metadata": {},
     "output_type": "display_data"
    }
   ],
   "source": [
    "# create a dataframe with the menu using the to_dataframe method you have implemented in the PizzaMenu class\n",
    "# and display it\n",
    "pizza_menu_df = pizza_menu.to_dataframe(sort_by=\"price\", descendent = True)\n",
    "display(pizza_menu_df)"
   ]
  },
  {
   "cell_type": "code",
   "execution_count": 4,
   "metadata": {},
   "outputs": [
    {
     "data": {
      "text/html": [
       "<div>\n",
       "<style scoped>\n",
       "    .dataframe tbody tr th:only-of-type {\n",
       "        vertical-align: middle;\n",
       "    }\n",
       "\n",
       "    .dataframe tbody tr th {\n",
       "        vertical-align: top;\n",
       "    }\n",
       "\n",
       "    .dataframe thead th {\n",
       "        text-align: right;\n",
       "    }\n",
       "</style>\n",
       "<table border=\"1\" class=\"dataframe\">\n",
       "  <thead>\n",
       "    <tr style=\"text-align: right;\">\n",
       "      <th></th>\n",
       "      <th>price</th>\n",
       "      <th>protein</th>\n",
       "      <th>average_fat</th>\n",
       "      <th>carbohydrates</th>\n",
       "      <th>calories</th>\n",
       "    </tr>\n",
       "  </thead>\n",
       "  <tbody>\n",
       "    <tr>\n",
       "      <th>count</th>\n",
       "      <td>10.00000</td>\n",
       "      <td>10.000000</td>\n",
       "      <td>10.000000</td>\n",
       "      <td>10.000000</td>\n",
       "      <td>10.000000</td>\n",
       "    </tr>\n",
       "    <tr>\n",
       "      <th>mean</th>\n",
       "      <td>8.75000</td>\n",
       "      <td>66.550000</td>\n",
       "      <td>247.390065</td>\n",
       "      <td>29.500000</td>\n",
       "      <td>1885.000000</td>\n",
       "    </tr>\n",
       "    <tr>\n",
       "      <th>std</th>\n",
       "      <td>2.67135</td>\n",
       "      <td>21.068737</td>\n",
       "      <td>74.797481</td>\n",
       "      <td>6.687468</td>\n",
       "      <td>697.316284</td>\n",
       "    </tr>\n",
       "    <tr>\n",
       "      <th>min</th>\n",
       "      <td>6.50000</td>\n",
       "      <td>45.500000</td>\n",
       "      <td>193.743280</td>\n",
       "      <td>23.000000</td>\n",
       "      <td>1070.000000</td>\n",
       "    </tr>\n",
       "    <tr>\n",
       "      <th>25%</th>\n",
       "      <td>6.82500</td>\n",
       "      <td>49.325000</td>\n",
       "      <td>202.252041</td>\n",
       "      <td>24.000000</td>\n",
       "      <td>1265.000000</td>\n",
       "    </tr>\n",
       "    <tr>\n",
       "      <th>50%</th>\n",
       "      <td>7.55000</td>\n",
       "      <td>60.550000</td>\n",
       "      <td>202.294568</td>\n",
       "      <td>28.000000</td>\n",
       "      <td>1825.000000</td>\n",
       "    </tr>\n",
       "    <tr>\n",
       "      <th>75%</th>\n",
       "      <td>11.27500</td>\n",
       "      <td>86.775000</td>\n",
       "      <td>315.075838</td>\n",
       "      <td>35.750000</td>\n",
       "      <td>2535.000000</td>\n",
       "    </tr>\n",
       "    <tr>\n",
       "      <th>max</th>\n",
       "      <td>12.60000</td>\n",
       "      <td>95.600000</td>\n",
       "      <td>358.342102</td>\n",
       "      <td>39.000000</td>\n",
       "      <td>2780.000000</td>\n",
       "    </tr>\n",
       "  </tbody>\n",
       "</table>\n",
       "</div>"
      ],
      "text/plain": [
       "          price    protein  average_fat  carbohydrates     calories\n",
       "count  10.00000  10.000000    10.000000      10.000000    10.000000\n",
       "mean    8.75000  66.550000   247.390065      29.500000  1885.000000\n",
       "std     2.67135  21.068737    74.797481       6.687468   697.316284\n",
       "min     6.50000  45.500000   193.743280      23.000000  1070.000000\n",
       "25%     6.82500  49.325000   202.252041      24.000000  1265.000000\n",
       "50%     7.55000  60.550000   202.294568      28.000000  1825.000000\n",
       "75%    11.27500  86.775000   315.075838      35.750000  2535.000000\n",
       "max    12.60000  95.600000   358.342102      39.000000  2780.000000"
      ]
     },
     "execution_count": 4,
     "metadata": {},
     "output_type": "execute_result"
    }
   ],
   "source": [
    "# compute basic descriptive statistics for the menu.\n",
    "# pay a special attention to the price column, as it is the most important one\n",
    "\n",
    "pizza_menu_df.describe()"
   ]
  },
  {
   "cell_type": "code",
   "execution_count": 5,
   "metadata": {},
   "outputs": [
    {
     "data": {
      "text/plain": [
       "count    10.00000\n",
       "mean      8.75000\n",
       "std       2.67135\n",
       "min       6.50000\n",
       "25%       6.82500\n",
       "50%       7.55000\n",
       "75%      11.27500\n",
       "max      12.60000\n",
       "Name: price, dtype: float64"
      ]
     },
     "execution_count": 5,
     "metadata": {},
     "output_type": "execute_result"
    }
   ],
   "source": [
    "pizza_menu_df.price.describe()"
   ]
  },
  {
   "cell_type": "code",
   "execution_count": 6,
   "metadata": {},
   "outputs": [
    {
     "data": {
      "image/png": "[encoded data removed]",
      "text/plain": [
       "<Figure size 640x480 with 1 Axes>"
      ]
     },
     "metadata": {},
     "output_type": "display_data"
    }
   ],
   "source": [
    "# Following steps are optional, but recommended:\n",
    "# 1. Create a boxplot for the price column\n",
    "# 2. Create a histogram for the price column\n",
    "# 3. Create a scatter plot for the price column and any other column of your choice\n",
    "import matplotlib.pyplot as plt\n",
    "plt.boxplot(pizza_menu_df.price)\n",
    "plt.title('Boxplot of prices')\n",
    "plt.ylabel('Price of pizza')\n",
    "plt.show()"
   ]
  },
  {
   "cell_type": "code",
   "execution_count": 7,
   "metadata": {},
   "outputs": [
    {
     "data": {
      "image/png": "[encoded data removed]",
      "text/plain": [
       "<Figure size 640x480 with 1 Axes>"
      ]
     },
     "metadata": {},
     "output_type": "display_data"
    }
   ],
   "source": [
    "plt.hist(pizza_menu_df.price, bins=10)\n",
    "plt.title('Histogram of prices')\n",
    "plt.xlabel('Price of pizza')\n",
    "plt.ylabel('Count')\n",
    "plt.show()"
   ]
  },
  {
   "cell_type": "code",
   "execution_count": 8,
   "metadata": {},
   "outputs": [
    {
     "data": {
      "image/png": "[encoded data removed]",
      "text/plain": [
       "<Figure size 640x480 with 4 Axes>"
      ]
     },
     "execution_count": 8,
     "metadata": {},
     "output_type": "execute_result"
    },
    {
     "data": {
      "image/png": "[encoded data removed]",
      "text/plain": [
       "<Figure size 640x480 with 4 Axes>"
      ]
     },
     "metadata": {},
     "output_type": "display_data"
    }
   ],
   "source": [
    "fig, ax = plt.subplots(nrows=2,ncols=2)\n",
    "ax[0,0].scatter(pizza_menu_df.price, pizza_menu_df.calories)\n",
    "ax[0,0].set_title('Prices vs calories')\n",
    "ax[0,0].set(xlabel='Price', ylabel='Calories')\n",
    "\n",
    "ax[0,1].scatter(pizza_menu_df.price, pizza_menu_df.protein)\n",
    "ax[0,1].set_title('Prices vs proteins')\n",
    "ax[0,1].set(xlabel='Price', ylabel='Proteins')\n",
    "\n",
    "ax[1,0].scatter(pizza_menu_df.price, pizza_menu_df.carbohydrates)\n",
    "ax[1,0].set_title('Prices vs carbohydrates')\n",
    "ax[1,0].set(xlabel='Price', ylabel='Carbohydrates')\n",
    "\n",
    "ax[1,1].scatter(pizza_menu_df.price, pizza_menu_df.average_fat)\n",
    "ax[1,1].set_title('Prices vs average fat')\n",
    "ax[1,1].set(xlabel='Price', ylabel='Average fat')\n",
    "\n",
    "fig"
   ]
  },
  {
   "cell_type": "code",
   "execution_count": 9,
   "metadata": {},
   "outputs": [
    {
     "data": {
      "text/plain": [
       "0.12536216919793988"
      ]
     },
     "execution_count": 9,
     "metadata": {},
     "output_type": "execute_result"
    }
   ],
   "source": [
    "# Try to answer follwing question:\n",
    "# 1. How much will price change on average if we increase the amount of protein in the pizza by 1 unit?\n",
    "# 2. How much will price change on average if we increase the amount of average_fat in the pizza by 1 unit?\n",
    "# 3. How much will price change on average if we increase the amount of carbohydrates in the pizza by 1 unit?\n",
    "\n",
    "# Hint: use functions that you have implemented in the pizza_sensitivities.py\n",
    "menu_sensitivity_protein(pizza_menu) # Q1: 0.12536216919793988"
   ]
  },
  {
   "cell_type": "code",
   "execution_count": 10,
   "metadata": {},
   "outputs": [
    {
     "data": {
      "text/plain": [
       "0.3521739130434783"
      ]
     },
     "execution_count": 10,
     "metadata": {},
     "output_type": "execute_result"
    }
   ],
   "source": [
    "menu_sensitivity_carbs(pizza_menu) # Q2: 0.3521739130434783"
   ]
  },
  {
   "cell_type": "code",
   "execution_count": 11,
   "metadata": {},
   "outputs": [
    {
     "data": {
      "text/plain": [
       "0.03491459542616351"
      ]
     },
     "execution_count": 11,
     "metadata": {},
     "output_type": "execute_result"
    }
   ],
   "source": [
    "menu_sensitivity_fat(pizza_menu) # Q3: 0.03569905538674639"
   ]
  },
  {
   "cell_type": "code",
   "execution_count": 12,
   "metadata": {},
   "outputs": [
    {
     "name": "stdout",
     "output_type": "stream",
     "text": [
      "Taste at Risk of Pizza2182163778768 is equal to 34.37007182427085\n",
      "Taste at Risk of Pizza2182237622736 is equal to 27.712795260105835\n",
      "Taste at Risk of Pizza2182237623824 is equal to 56.01397893400058\n",
      "Taste at Risk of Pizza2182237626320 is equal to 32.755497092081306\n",
      "Taste at Risk of Pizza2182237626768 is equal to 29.32002314392206\n",
      "Taste at Risk of Pizza2182237627216 is equal to 54.33715595379374\n",
      "Taste at Risk of Pizza2182237627472 is equal to 34.37007182427085\n",
      "Taste at Risk of Pizza2182237627984 is equal to 27.712795260105835\n",
      "Taste at Risk of Pizza2182237628432 is equal to 56.01397893400058\n",
      "Taste at Risk of Pizza2182237628816 is equal to 32.755497092081306\n"
     ]
    },
    {
     "data": {
      "text/plain": [
       "[None, None, None, None, None, None, None, None, None, None]"
      ]
     },
     "execution_count": 12,
     "metadata": {},
     "output_type": "execute_result"
    }
   ],
   "source": [
    "# Compute Taste at Risk (TaR) for each pizza in the menu and for the whole menu and briefly comment on the results\n",
    "# Use quantile = 0.1\n",
    "# Answer following question:\n",
    "# 1. Does the sum of TaR for each pizza in the menu equal to the TaR of the whole menu and why?\n",
    "# No, the quantile function, used to calculate TaR, is not additive\n",
    "\n",
    "# Hint: use functions that you have implemented in the taste_at_risk.py\n",
    "quantile = 0.1\n",
    "[print(\"Taste at Risk of \" + pizza.name + \" is equal to \" + str(taste_at_risk_pizza(pizza,quantile))) for pizza in pizza_menu.pizzas]"
   ]
  },
  {
   "cell_type": "code",
   "execution_count": 13,
   "metadata": {},
   "outputs": [
    {
     "data": {
      "text/plain": [
       "385.6218689703379"
      ]
     },
     "execution_count": 13,
     "metadata": {},
     "output_type": "execute_result"
    }
   ],
   "source": [
    "taste_at_risk_menu(pizza_menu,quantile) # 385.70078807905855"
   ]
  },
  {
   "cell_type": "code",
   "execution_count": 14,
   "metadata": {},
   "outputs": [
    {
     "data": {
      "text/plain": [
       "385.361865318633"
      ]
     },
     "execution_count": 14,
     "metadata": {},
     "output_type": "execute_result"
    }
   ],
   "source": [
    "sum(taste_at_risk_pizza(pizza,quantile) for pizza in pizza_menu.pizzas) # 385.2228765929357"
   ]
  },
  {
   "cell_type": "code",
   "execution_count": 15,
   "metadata": {},
   "outputs": [],
   "source": [
    "# Results of TaR for menu and sum of TaR for respective pizzas are not same, but quite close."
   ]
  },
  {
   "cell_type": "code",
   "execution_count": 16,
   "metadata": {},
   "outputs": [
    {
     "name": "stdout",
     "output_type": "stream",
     "text": [
      "Conditional Taste at Risk of Pizza2182163778768 is equal to 33.119392140028225\n",
      "Conditional Taste at Risk of Pizza2182237622736 is equal to 26.93199672822002\n",
      "Conditional Taste at Risk of Pizza2182237623824 is equal to 54.16542802444612\n",
      "Conditional Taste at Risk of Pizza2182237626320 is equal to 31.53223597858175\n",
      "Conditional Taste at Risk of Pizza2182237626768 is equal to 28.46882848980359\n",
      "Conditional Taste at Risk of Pizza2182237627216 is equal to 52.60432392926546\n",
      "Conditional Taste at Risk of Pizza2182237627472 is equal to 33.119392140028225\n",
      "Conditional Taste at Risk of Pizza2182237627984 is equal to 26.93199672822002\n",
      "Conditional Taste at Risk of Pizza2182237628432 is equal to 54.16542802444612\n",
      "Conditional Taste at Risk of Pizza2182237628816 is equal to 31.53223597858175\n"
     ]
    },
    {
     "data": {
      "text/plain": [
       "[None, None, None, None, None, None, None, None, None, None]"
      ]
     },
     "execution_count": 16,
     "metadata": {},
     "output_type": "execute_result"
    }
   ],
   "source": [
    "# Compute Conditional Taste at Risk (CTaR) for each pizza in the menu and for the whole menu and briefly comment on the results\n",
    "\n",
    "# Hint: use functions that you have implemented in the taste_at_risk.py\n",
    "[print(\"Conditional Taste at Risk of \" + pizza.name + \" is equal to \" + str(conditional_taste_at_risk_pizza(pizza,quantile))) for pizza in pizza_menu.pizzas]"
   ]
  },
  {
   "cell_type": "code",
   "execution_count": 17,
   "metadata": {},
   "outputs": [
    {
     "data": {
      "text/plain": [
       "372.7918165879877"
      ]
     },
     "execution_count": 17,
     "metadata": {},
     "output_type": "execute_result"
    }
   ],
   "source": [
    "conditional_taste_at_risk_menu(pizza_menu,quantile) # 370.11848838294856"
   ]
  },
  {
   "cell_type": "code",
   "execution_count": 18,
   "metadata": {},
   "outputs": [
    {
     "data": {
      "text/plain": [
       "372.5712581616213"
      ]
     },
     "execution_count": 18,
     "metadata": {},
     "output_type": "execute_result"
    }
   ],
   "source": [
    "sum(conditional_taste_at_risk_pizza(pizza,quantile) for pizza in pizza_menu.pizzas)"
   ]
  },
  {
   "cell_type": "code",
   "execution_count": 19,
   "metadata": {},
   "outputs": [],
   "source": [
    "# We can observe that sum of CTaR for pizzas is not equal to CTaR of menu"
   ]
  },
  {
   "cell_type": "code",
   "execution_count": 20,
   "metadata": {},
   "outputs": [],
   "source": [
    "# Define constraints_values and constraints_ingredients and find the optimal pizza using the func maximize_taste_penalty_price, that you have implemented in the pizza_optimizer.py\n",
    "# Use lambda_param = 0.5\n",
    "lambda_param = 0.5\n",
    "constraints_values = PizzaConstraintsValues()\n",
    "constraints_ingredients = PizzaConstraintsIngredients(1,0,0,1,1,1)\n",
    "\n",
    "pizza_new = maximize_taste_penalty_price(constraints_values,constraints_ingredients,lambda_param)"
   ]
  },
  {
   "cell_type": "code",
   "execution_count": 21,
   "metadata": {},
   "outputs": [],
   "source": [
    "# Add this pizza to the menu using the add_pizza method of the PizzaMenu class\n",
    "pizza_menu.add_pizza(pizza_new)"
   ]
  },
  {
   "cell_type": "code",
   "execution_count": 21,
   "metadata": {},
   "outputs": [
    {
     "data": {
      "text/plain": [
       "369.396487587958"
      ]
     },
     "execution_count": 21,
     "metadata": {},
     "output_type": "execute_result"
    }
   ],
   "source": [
    "# Compute the new TaR and CTaR for the whole new menu with added pizza\n",
    "taste_at_risk_menu(pizza_menu,quantile) # 416.5203041211615"
   ]
  },
  {
   "cell_type": "code",
   "execution_count": 22,
   "metadata": {},
   "outputs": [
    {
     "data": {
      "text/plain": [
       "356.5448741963508"
      ]
     },
     "execution_count": 22,
     "metadata": {},
     "output_type": "execute_result"
    }
   ],
   "source": [
    "conditional_taste_at_risk_menu(pizza_menu,quantile) # 404.3616385045668"
   ]
  },
  {
   "cell_type": "code",
   "execution_count": 23,
   "metadata": {},
   "outputs": [],
   "source": [
    "# Compare old and new TaR and CTaR and briefly comment on the results."
   ]
  },
  {
   "cell_type": "code",
   "execution_count": 24,
   "metadata": {},
   "outputs": [
    {
     "data": {
      "text/plain": [
       "350.5020877435932"
      ]
     },
     "execution_count": 24,
     "metadata": {},
     "output_type": "execute_result"
    }
   ],
   "source": [
    "pizza_menu.remove_pizza(pizza_new)\n",
    "taste_at_risk_menu(pizza_menu,quantile) # old TaR: 400.3796990429126"
   ]
  },
  {
   "cell_type": "code",
   "execution_count": 25,
   "metadata": {},
   "outputs": [
    {
     "data": {
      "text/plain": [
       "338.12872438304913"
      ]
     },
     "execution_count": 25,
     "metadata": {},
     "output_type": "execute_result"
    }
   ],
   "source": [
    "conditional_taste_at_risk_menu(pizza_menu,quantile) # old CTaR: 388.4812056450246"
   ]
  },
  {
   "cell_type": "code",
   "execution_count": 26,
   "metadata": {},
   "outputs": [],
   "source": [
    "# We can observe that taste of the menu increases after adding new pizza, as the additional nonnegative random variable is added to the taste variable"
   ]
  },
  {
   "cell_type": "code",
   "execution_count": null,
   "metadata": {},
   "outputs": [],
   "source": []
  }
 ],
 "metadata": {
  "kernelspec": {
   "display_name": "Python 3 (ipykernel)",
   "language": "python",
   "name": "python3"
  },
  "language_info": {
   "codemirror_mode": {
    "name": "ipython",
    "version": 3
   },
   "file_extension": ".py",
   "mimetype": "text/x-python",
   "name": "python",
   "nbconvert_exporter": "python",
   "pygments_lexer": "ipython3",
   "version": "3.11.7"
  }
 },
 "nbformat": 4,
 "nbformat_minor": 4
}
